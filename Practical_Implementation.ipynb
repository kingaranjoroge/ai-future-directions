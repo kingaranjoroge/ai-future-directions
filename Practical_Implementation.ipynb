{
  "nbformat": 4,
  "nbformat_minor": 0,
  "metadata": {
    "colab": {
      "provenance": []
    },
    "kernelspec": {
      "name": "python3",
      "display_name": "Python 3"
    },
    "language_info": {
      "name": "python"
    }
  },
  "cells": [
    {
      "cell_type": "code",
      "execution_count": 1,
      "metadata": {
        "id": "S9uat64pnc82"
      },
      "outputs": [],
      "source": [
        "# Cell 2: Import required libraries\n",
        "import tensorflow as tf\n",
        "import numpy as np\n",
        "import time\n",
        "from tensorflow.keras import layers, models"
      ]
    },
    {
      "cell_type": "code",
      "source": [
        "# Cell 3: Load CIFAR-10 dataset\n",
        "(x_train, y_train), (x_test, y_test) = tf.keras.datasets.cifar10.load_data()\n",
        "\n",
        "# For binary classification: 1 = automobile (recyclable), 0 = cat (non-recyclable)\n",
        "class_map = {1: 'automobile', 3: 'cat'}\n",
        "train_filter = np.isin(y_train, list(class_map.keys()))\n",
        "test_filter = np.isin(y_test, list(class_map.keys()))\n",
        "\n",
        "x_train_bin = x_train[train_filter.squeeze()]\n",
        "y_train_bin = y_train[train_filter].squeeze()\n",
        "x_test_bin = x_test[test_filter.squeeze()]\n",
        "y_test_bin = y_test[test_filter].squeeze()\n",
        "\n",
        "# Map labels to 0 and 1\n",
        "y_train_bin = (y_train_bin == 1).astype(np.float32)\n",
        "y_test_bin = (y_test_bin == 1).astype(np.float32)\n",
        "\n",
        "# Normalize images\n",
        "x_train_bin = x_train_bin.astype('float32') / 255.0\n",
        "x_test_bin = x_test_bin.astype('float32') / 255.0"
      ],
      "metadata": {
        "colab": {
          "base_uri": "https://localhost:8080/"
        },
        "id": "0Z2R1oTKoC8o",
        "outputId": "db99b70a-e66f-42d2-e0f8-ca6c8f4a6398"
      },
      "execution_count": 2,
      "outputs": [
        {
          "output_type": "stream",
          "name": "stdout",
          "text": [
            "Downloading data from https://www.cs.toronto.edu/~kriz/cifar-10-python.tar.gz\n",
            "\u001b[1m170498071/170498071\u001b[0m \u001b[32m━━━━━━━━━━━━━━━━━━━━\u001b[0m\u001b[37m\u001b[0m \u001b[1m4s\u001b[0m 0us/step\n"
          ]
        }
      ]
    },
    {
      "cell_type": "code",
      "source": [
        "# Cell 4: Define a simple CNN model\n",
        "model = models.Sequential([\n",
        "    layers.Conv2D(16, (3, 3), activation='relu', input_shape=(32, 32, 3)),\n",
        "    layers.MaxPooling2D((2, 2)),\n",
        "    layers.Conv2D(32, (3, 3), activation='relu'),\n",
        "    layers.MaxPooling2D((2, 2)),\n",
        "    layers.Flatten(),\n",
        "    layers.Dense(32, activation='relu'),\n",
        "    layers.Dense(1, activation='sigmoid')\n",
        "])\n",
        "\n",
        "model.compile(optimizer='adam',\n",
        "              loss='binary_crossentropy',\n",
        "              metrics=['accuracy'])\n",
        "\n",
        "# Train the model\n",
        "history = model.fit(\n",
        "    x_train_bin, y_train_bin,\n",
        "    epochs=5,\n",
        "    batch_size=64,\n",
        "    validation_split=0.1\n",
        ")"
      ],
      "metadata": {
        "colab": {
          "base_uri": "https://localhost:8080/"
        },
        "id": "xb91iJa-oJRm",
        "outputId": "829b327c-dea2-4d13-a888-81970772e494"
      },
      "execution_count": 3,
      "outputs": [
        {
          "output_type": "stream",
          "name": "stderr",
          "text": [
            "/usr/local/lib/python3.11/dist-packages/keras/src/layers/convolutional/base_conv.py:107: UserWarning: Do not pass an `input_shape`/`input_dim` argument to a layer. When using Sequential models, prefer using an `Input(shape)` object as the first layer in the model instead.\n",
            "  super().__init__(activity_regularizer=activity_regularizer, **kwargs)\n"
          ]
        },
        {
          "output_type": "stream",
          "name": "stdout",
          "text": [
            "Epoch 1/5\n",
            "\u001b[1m141/141\u001b[0m \u001b[32m━━━━━━━━━━━━━━━━━━━━\u001b[0m\u001b[37m\u001b[0m \u001b[1m9s\u001b[0m 47ms/step - accuracy: 0.7957 - loss: 0.4604 - val_accuracy: 0.9110 - val_loss: 0.2238\n",
            "Epoch 2/5\n",
            "\u001b[1m141/141\u001b[0m \u001b[32m━━━━━━━━━━━━━━━━━━━━\u001b[0m\u001b[37m\u001b[0m \u001b[1m9s\u001b[0m 37ms/step - accuracy: 0.9271 - loss: 0.1919 - val_accuracy: 0.9050 - val_loss: 0.2350\n",
            "Epoch 3/5\n",
            "\u001b[1m141/141\u001b[0m \u001b[32m━━━━━━━━━━━━━━━━━━━━\u001b[0m\u001b[37m\u001b[0m \u001b[1m10s\u001b[0m 36ms/step - accuracy: 0.9341 - loss: 0.1723 - val_accuracy: 0.9320 - val_loss: 0.1769\n",
            "Epoch 4/5\n",
            "\u001b[1m141/141\u001b[0m \u001b[32m━━━━━━━━━━━━━━━━━━━━\u001b[0m\u001b[37m\u001b[0m \u001b[1m6s\u001b[0m 46ms/step - accuracy: 0.9435 - loss: 0.1398 - val_accuracy: 0.9280 - val_loss: 0.1786\n",
            "Epoch 5/5\n",
            "\u001b[1m141/141\u001b[0m \u001b[32m━━━━━━━━━━━━━━━━━━━━\u001b[0m\u001b[37m\u001b[0m \u001b[1m9s\u001b[0m 37ms/step - accuracy: 0.9413 - loss: 0.1510 - val_accuracy: 0.9420 - val_loss: 0.1505\n"
          ]
        }
      ]
    },
    {
      "cell_type": "code",
      "source": [
        "# Cell 5: Evaluate on test set\n",
        "test_loss, test_acc = model.evaluate(x_test_bin, y_test_bin, verbose=2)\n",
        "print(f'Test accuracy: {test_acc:.4f}')"
      ],
      "metadata": {
        "colab": {
          "base_uri": "https://localhost:8080/"
        },
        "id": "Fhl8JjQRok4Y",
        "outputId": "55852176-0a54-43f7-fa80-3d22b5360e45"
      },
      "execution_count": 4,
      "outputs": [
        {
          "output_type": "stream",
          "name": "stdout",
          "text": [
            "63/63 - 0s - 7ms/step - accuracy: 0.9500 - loss: 0.1423\n",
            "Test accuracy: 0.9500\n"
          ]
        }
      ]
    },
    {
      "cell_type": "code",
      "source": [
        "# Cell 6: Convert to TFLite\n",
        "converter = tf.lite.TFLiteConverter.from_keras_model(model)\n",
        "tflite_model = converter.convert()\n",
        "\n",
        "# Save the TFLite model\n",
        "with open('edge_model.tflite', 'wb') as f:\n",
        "    f.write(tflite_model)\n",
        "print('TFLite model saved as edge_model.tflite')"
      ],
      "metadata": {
        "colab": {
          "base_uri": "https://localhost:8080/"
        },
        "id": "kMVZlME2ooaa",
        "outputId": "6552eb2e-3304-4a48-bff2-2c04cea1817f"
      },
      "execution_count": 5,
      "outputs": [
        {
          "output_type": "stream",
          "name": "stdout",
          "text": [
            "Saved artifact at '/tmp/tmpovl5lquq'. The following endpoints are available:\n",
            "\n",
            "* Endpoint 'serve'\n",
            "  args_0 (POSITIONAL_ONLY): TensorSpec(shape=(None, 32, 32, 3), dtype=tf.float32, name='keras_tensor')\n",
            "Output Type:\n",
            "  TensorSpec(shape=(None, 1), dtype=tf.float32, name=None)\n",
            "Captures:\n",
            "  133148991429072: TensorSpec(shape=(), dtype=tf.resource, name=None)\n",
            "  133148991430224: TensorSpec(shape=(), dtype=tf.resource, name=None)\n",
            "  133148991428496: TensorSpec(shape=(), dtype=tf.resource, name=None)\n",
            "  133148991427344: TensorSpec(shape=(), dtype=tf.resource, name=None)\n",
            "  133148991429648: TensorSpec(shape=(), dtype=tf.resource, name=None)\n",
            "  133148991429264: TensorSpec(shape=(), dtype=tf.resource, name=None)\n",
            "  133148991430608: TensorSpec(shape=(), dtype=tf.resource, name=None)\n",
            "  133148991429840: TensorSpec(shape=(), dtype=tf.resource, name=None)\n",
            "TFLite model saved as edge_model.tflite\n"
          ]
        }
      ]
    },
    {
      "cell_type": "code",
      "source": [
        "# Cell 7: Run inference with TFLite model\n",
        "interpreter = tf.lite.Interpreter(model_path='edge_model.tflite')\n",
        "interpreter.allocate_tensors()\n",
        "\n",
        "input_details = interpreter.get_input_details()\n",
        "output_details = interpreter.get_output_details()\n",
        "\n",
        "# Test on 100 samples\n",
        "num_samples = 100\n",
        "total_time = 0\n",
        "correct = 0\n",
        "\n",
        "for i in range(num_samples):\n",
        "    input_data = np.expand_dims(x_test_bin[i], axis=0).astype(np.float32)\n",
        "    interpreter.set_tensor(input_details[0]['index'], input_data)\n",
        "    start = time.time()\n",
        "    interpreter.invoke()\n",
        "    end = time.time()\n",
        "    output = interpreter.get_tensor(output_details[0]['index'])\n",
        "    pred = (output[0][0] > 0.5).astype(np.float32)\n",
        "    if pred == y_test_bin[i]:\n",
        "        correct += 1\n",
        "    total_time += (end - start)\n",
        "\n",
        "print(f'TFLite accuracy on {num_samples} samples: {correct/num_samples:.4f}')\n",
        "print(f'Average inference time per image: {total_time/num_samples*1000:.2f} ms')"
      ],
      "metadata": {
        "colab": {
          "base_uri": "https://localhost:8080/"
        },
        "id": "-CBL3vDWotmf",
        "outputId": "3e5b2310-deeb-4647-abb4-10944ba2dcda"
      },
      "execution_count": 6,
      "outputs": [
        {
          "output_type": "stream",
          "name": "stdout",
          "text": [
            "TFLite accuracy on 100 samples: 0.9600\n",
            "Average inference time per image: 0.11 ms\n"
          ]
        }
      ]
    }
  ]
}